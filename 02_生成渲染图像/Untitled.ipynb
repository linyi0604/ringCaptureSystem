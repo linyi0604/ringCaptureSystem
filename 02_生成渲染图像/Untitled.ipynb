{
 "cells": [
  {
   "cell_type": "code",
   "execution_count": 1,
   "metadata": {},
   "outputs": [],
   "source": [
    "import numpy as np"
   ]
  },
  {
   "cell_type": "code",
   "execution_count": 2,
   "metadata": {},
   "outputs": [],
   "source": [
    "# 三个方向的相对位置序列\n",
    "s_x = np.load('/home/linyi/PycharmProjects/对接环目标捕获智能控制器仿真系统/01_PI控制与数据生成/data/s_x.npy')\n",
    "s_y = np.load('/home/linyi/PycharmProjects/对接环目标捕获智能控制器仿真系统/01_PI控制与数据生成/data/s_y.npy')\n",
    "s_z = np.load('/home/linyi/PycharmProjects/对接环目标捕获智能控制器仿真系统/01_PI控制与数据生成/data/s_z.npy')\n",
    "\n",
    "# 三个方向加速度序列\n",
    "a_x = np.load('/home/linyi/PycharmProjects/对接环目标捕获智能控制器仿真系统/01_PI控制与数据生成/data/a_x.npy')\n",
    "a_y = np.load('/home/linyi/PycharmProjects/对接环目标捕获智能控制器仿真系统/01_PI控制与数据生成/data/a_y.npy')\n",
    "a_z = np.load('/home/linyi/PycharmProjects/对接环目标捕获智能控制器仿真系统/01_PI控制与数据生成/data/a_z.npy')\n",
    "# 三个方向速度序列\n",
    "v_x = np.load('/home/linyi/PycharmProjects/对接环目标捕获智能控制器仿真系统/01_PI控制与数据生成/data/v_x.npy')\n",
    "v_y = np.load('/home/linyi/PycharmProjects/对接环目标捕获智能控制器仿真系统/01_PI控制与数据生成/data/v_y.npy')\n",
    "v_z = np.load('/home/linyi/PycharmProjects/对接环目标捕获智能控制器仿真系统/01_PI控制与数据生成/data/v_z.npy')\n",
    "\n",
    "N = s_x.shape[0]   # 多少条 从远到近的接近路径\n",
    "M = s_x.shape[1]   # 每条路径 控制次数 离散采样次数"
   ]
  },
  {
   "cell_type": "code",
   "execution_count": 34,
   "metadata": {},
   "outputs": [
    {
     "data": {
      "text/plain": [
       "(5000, 800)"
      ]
     },
     "execution_count": 34,
     "metadata": {},
     "output_type": "execute_result"
    }
   ],
   "source": [
    "N, M"
   ]
  },
  {
   "cell_type": "code",
   "execution_count": 36,
   "metadata": {},
   "outputs": [],
   "source": [
    "r = 7.5  # 圆环半径7.5m\n",
    "rcos30, rsin30 = r*np.cos(np.pi/6), r*np.sin(np.pi/6)\n",
    "file_path = \"/home/linyi/Desktop/\""
   ]
  },
  {
   "cell_type": "code",
   "execution_count": null,
   "metadata": {},
   "outputs": [],
   "source": []
  },
  {
   "cell_type": "code",
   "execution_count": 56,
   "metadata": {},
   "outputs": [],
   "source": [
    "\n",
    "for n in range(N):\n",
    "    # 当前第n条接近路线\n",
    "    for m in range(M):\n",
    "        # 第m次控制 离散采样\n",
    "        v = (vx, vy, vz) = (v_x[n][m], v_y[n][m], v_z[n][m])\n",
    "        a = (ax, ay, az) = (a_x[n][m], a_y[n][m], a_z[n][m])\n",
    "        s = (sx, sy, sz) = (s_x[n][m], s_y[n][m], s_z[n][m])\n",
    "        # 相机坐标\n",
    "        camera1 = (camera1_x, camera1_y, camera1_z) = (sx, sy+r, sz)\n",
    "        camera2 = (camera2_x, camera2_y, camera2_z) = (sx+rcos30, sy-rsin30, sz)\n",
    "        camera3 = (camera3_x, camera3_y, camera3_z) = (sx-rcos30, sy-rsin30, sz)\n",
    "        camera = (camera1, camera2, camera3)\n",
    "        # 图像命名规范：　路径序号n_控制序号m_sxyz(sx,sy,sz)_vxyz(vx,vy,vz).png\n",
    "        file_name = \"\"+str(n)+\"_\"+str(m)+\"_\" + \"sxyz\"+str(s) + \"_vxyz\" +str(v)"
   ]
  },
  {
   "cell_type": "code",
   "execution_count": 61,
   "metadata": {},
   "outputs": [],
   "source": [
    "import os\n",
    "os.mkdir(\"/home/linyi/PycharmProjects/对接环目标捕获智能控制器仿真系统/02_生成渲染图像/data/1/\")"
   ]
  },
  {
   "cell_type": "code",
   "execution_count": 54,
   "metadata": {
    "scrolled": true
   },
   "outputs": [
    {
     "data": {
      "text/plain": [
       "False"
      ]
     },
     "execution_count": 54,
     "metadata": {},
     "output_type": "execute_result"
    }
   ],
   "source": [
    "os.path.exists(\"/home/linyi/PycharmProjects/对接环目标捕获智能控制器仿真系统/02_生成渲染图像/data/1/\")"
   ]
  },
  {
   "cell_type": "code",
   "execution_count": 53,
   "metadata": {},
   "outputs": [],
   "source": [
    "os.removedirs(\"/home/linyi/PycharmProjects/对接环目标捕获智能控制器仿真系统/02_生成渲染图像/data/1/\")"
   ]
  },
  {
   "cell_type": "code",
   "execution_count": null,
   "metadata": {},
   "outputs": [],
   "source": []
  },
  {
   "cell_type": "code",
   "execution_count": 4,
   "metadata": {},
   "outputs": [
    {
     "ename": "OSError",
     "evalue": "[Errno 39] Directory not empty: '/home/linyi/PycharmProjects/对接环目标捕获智能控制器仿真系统/02_生成渲染图像/data/0/'",
     "output_type": "error",
     "traceback": [
      "\u001b[0;31m---------------------------------------------------------------------------\u001b[0m",
      "\u001b[0;31mOSError\u001b[0m                                   Traceback (most recent call last)",
      "\u001b[0;32m<ipython-input-4-44369df7e9e9>\u001b[0m in \u001b[0;36m<module>\u001b[0;34m()\u001b[0m\n\u001b[1;32m     49\u001b[0m     \u001b[0mcur_file_path\u001b[0m \u001b[0;34m=\u001b[0m \u001b[0mfile_path\u001b[0m \u001b[0;34m+\u001b[0m \u001b[0mstr\u001b[0m\u001b[0;34m(\u001b[0m\u001b[0mn\u001b[0m\u001b[0;34m)\u001b[0m \u001b[0;34m+\u001b[0m \u001b[0;34m\"/\"\u001b[0m\u001b[0;34m\u001b[0m\u001b[0;34m\u001b[0m\u001b[0m\n\u001b[1;32m     50\u001b[0m     \u001b[0;32mif\u001b[0m \u001b[0mos\u001b[0m\u001b[0;34m.\u001b[0m\u001b[0mpath\u001b[0m\u001b[0;34m.\u001b[0m\u001b[0mexists\u001b[0m\u001b[0;34m(\u001b[0m\u001b[0mcur_file_path\u001b[0m\u001b[0;34m)\u001b[0m\u001b[0;34m:\u001b[0m\u001b[0;34m\u001b[0m\u001b[0;34m\u001b[0m\u001b[0m\n\u001b[0;32m---> 51\u001b[0;31m         \u001b[0mos\u001b[0m\u001b[0;34m.\u001b[0m\u001b[0mremovedirs\u001b[0m\u001b[0;34m(\u001b[0m\u001b[0mcur_file_path\u001b[0m\u001b[0;34m)\u001b[0m\u001b[0;34m\u001b[0m\u001b[0;34m\u001b[0m\u001b[0m\n\u001b[0m\u001b[1;32m     52\u001b[0m     \u001b[0mos\u001b[0m\u001b[0;34m.\u001b[0m\u001b[0mmkdir\u001b[0m\u001b[0;34m(\u001b[0m\u001b[0mcur_file_path\u001b[0m\u001b[0;34m)\u001b[0m\u001b[0;34m\u001b[0m\u001b[0;34m\u001b[0m\u001b[0m\n\u001b[1;32m     53\u001b[0m \u001b[0;34m\u001b[0m\u001b[0m\n",
      "\u001b[0;32m/usr/lib/python3.6/os.py\u001b[0m in \u001b[0;36mremovedirs\u001b[0;34m(name)\u001b[0m\n\u001b[1;32m    236\u001b[0m \u001b[0;34m\u001b[0m\u001b[0m\n\u001b[1;32m    237\u001b[0m     \"\"\"\n\u001b[0;32m--> 238\u001b[0;31m     \u001b[0mrmdir\u001b[0m\u001b[0;34m(\u001b[0m\u001b[0mname\u001b[0m\u001b[0;34m)\u001b[0m\u001b[0;34m\u001b[0m\u001b[0;34m\u001b[0m\u001b[0m\n\u001b[0m\u001b[1;32m    239\u001b[0m     \u001b[0mhead\u001b[0m\u001b[0;34m,\u001b[0m \u001b[0mtail\u001b[0m \u001b[0;34m=\u001b[0m \u001b[0mpath\u001b[0m\u001b[0;34m.\u001b[0m\u001b[0msplit\u001b[0m\u001b[0;34m(\u001b[0m\u001b[0mname\u001b[0m\u001b[0;34m)\u001b[0m\u001b[0;34m\u001b[0m\u001b[0;34m\u001b[0m\u001b[0m\n\u001b[1;32m    240\u001b[0m     \u001b[0;32mif\u001b[0m \u001b[0;32mnot\u001b[0m \u001b[0mtail\u001b[0m\u001b[0;34m:\u001b[0m\u001b[0;34m\u001b[0m\u001b[0;34m\u001b[0m\u001b[0m\n",
      "\u001b[0;31mOSError\u001b[0m: [Errno 39] Directory not empty: '/home/linyi/PycharmProjects/对接环目标捕获智能控制器仿真系统/02_生成渲染图像/data/0/'"
     ]
    }
   ],
   "source": [
    "# import bpy\n",
    "import numpy as np\n",
    "import os\n",
    "\n",
    "\n",
    "# 三个方向的相对位置序列\n",
    "s_x = np.load('/home/linyi/PycharmProjects/对接环目标捕获智能控制器仿真系统/01_PI控制与数据生成/data/s_x.npy')\n",
    "s_y = np.load('/home/linyi/PycharmProjects/对接环目标捕获智能控制器仿真系统/01_PI控制与数据生成/data/s_y.npy')\n",
    "s_z = np.load('/home/linyi/PycharmProjects/对接环目标捕获智能控制器仿真系统/01_PI控制与数据生成/data/s_z.npy')\n",
    "\n",
    "# 三个方向加速度序列\n",
    "a_x = np.load('/home/linyi/PycharmProjects/对接环目标捕获智能控制器仿真系统/01_PI控制与数据生成/data/a_x.npy')\n",
    "a_y = np.load('/home/linyi/PycharmProjects/对接环目标捕获智能控制器仿真系统/01_PI控制与数据生成/data/a_y.npy')\n",
    "a_z = np.load('/home/linyi/PycharmProjects/对接环目标捕获智能控制器仿真系统/01_PI控制与数据生成/data/a_z.npy')\n",
    "# 三个方向速度序列\n",
    "v_x = np.load('/home/linyi/PycharmProjects/对接环目标捕获智能控制器仿真系统/01_PI控制与数据生成/data/v_x.npy')\n",
    "v_y = np.load('/home/linyi/PycharmProjects/对接环目标捕获智能控制器仿真系统/01_PI控制与数据生成/data/v_y.npy')\n",
    "v_z = np.load('/home/linyi/PycharmProjects/对接环目标捕获智能控制器仿真系统/01_PI控制与数据生成/data/v_z.npy')\n",
    "\n",
    "N = s_x.shape[0]  # 多少条 从远到近的接近路径\n",
    "M = s_x.shape[1]  # 每条路径 控制次数 离散采样次数\n",
    "\n",
    "r = 7.5  # 圆环半径7.5m\n",
    "rcos30, rsin30 = r * np.cos(np.pi / 6), r * np.sin(np.pi / 6)\n",
    "file_path = \"/home/linyi/PycharmProjects/对接环目标捕获智能控制器仿真系统/02_生成渲染图像/data/\"\n",
    "\n",
    "# # 镜头相关设置\n",
    "# bpy.context.object.data.type = 'PANO'  # 设置为全景相机\n",
    "# bpy.context.object.data.angle = 0.785398  # 设置镜头视野45度\n",
    "# bpy.context.object.data.lens_unit = 'FOV'  # 镜头单位为视野\n",
    "# bpy.context.object.data.clip_start = 0.1  # 起始距离\n",
    "# bpy.context.object.data.clip_end = 25  # 结束距离\n",
    "\n",
    "# # 设置保存为灰度图模式 图像深度8 压缩率100%  保存为png\n",
    "# bpy.context.scene.render.image_settings.color_mode = 'BW'\n",
    "# bpy.context.scene.render.image_settings.color_depth = '8'\n",
    "# bpy.context.scene.render.image_settings.compression = 100\n",
    "# bpy.data.scenes['Scene'].render.image_settings.file_format = \"PNG\"\n",
    "\n",
    "# # 设置保存图像的大小\n",
    "# # bpy.context.scene.render.resolution_x = 2048\n",
    "# # bpy.context.scene.render.resolution_y = 2048\n",
    "# bpy.context.scene.render.resolution_x = 64\n",
    "# bpy.context.scene.render.resolution_y = 64\n",
    "\n",
    "for n in range(N):\n",
    "    # 当前第n条接近路线\n",
    "    # 生成路线序号的文件夹\n",
    "    cur_file_path = file_path + str(n) + \"/\"\n",
    "    if os.path.exists(cur_file_path):\n",
    "        os.removedirs(cur_file_path)\n",
    "    os.mkdir(cur_file_path)\n",
    "\n",
    "    for m in range(M):\n",
    "        # 第m次控制 离散采样\n",
    "        v = (vx, vy, vz) = (v_x[n][m], v_y[n][m], v_z[n][m])\n",
    "        a = (ax, ay, az) = (a_x[n][m], a_y[n][m], a_z[n][m])\n",
    "        s = (sx, sy, sz) = (s_x[n][m], s_y[n][m], s_z[n][m])\n",
    "        # 相机坐标\n",
    "        camera0 = (camera1_x, camera1_y, camera1_z) = (sx, sy + r, sz)\n",
    "        camera1 = (camera2_x, camera2_y, camera2_z) = (sx + rcos30, sy - rsin30, sz)\n",
    "        camera2 = (camera3_x, camera3_y, camera3_z) = (sx - rcos30, sy - rsin30, sz)\n",
    "        camera = (camera0, camera1, camera2)\n",
    "        for i in range(3):\n",
    "#             bpy.data.objects[\"Camera\"].location = camera[i]\n",
    "#             # 图像命名规范：　路径序号n_控制序号m_相机编号i_sxyz(sx,sy,sz)_vxyz(vx,vy,vz).png\n",
    "            file_name = \"\" + str(n) + \"_\" + str(m) + \"_\" + str(i) + \"_\" + \"sxyz\" + str(s) + \"_vxyz\" + str(v)\n",
    "#             # 下一张图像的路径\n",
    "#             bpy.context.scene.render.filepath = cur_file_path + file_name\n",
    "\n",
    "#             # 将图片拍照保存到本地\n",
    "#             bpy.ops.render.render(write_still=True)\n",
    "        if m == 0:\n",
    "            break\n",
    "    if n == 0:\n",
    "        break\n",
    "\n",
    "\n"
   ]
  },
  {
   "cell_type": "code",
   "execution_count": 8,
   "metadata": {},
   "outputs": [],
   "source": [
    "import shutil"
   ]
  },
  {
   "cell_type": "code",
   "execution_count": 9,
   "metadata": {},
   "outputs": [],
   "source": [
    "\n",
    "shutil.rmtree(cur_file_path)"
   ]
  },
  {
   "cell_type": "code",
   "execution_count": 1,
   "metadata": {},
   "outputs": [],
   "source": [
    "path = \"/home/linyi/PycharmProjects/对接环目标捕获智能控制器仿真系统/02_生成渲染图像/data/\""
   ]
  },
  {
   "cell_type": "code",
   "execution_count": 2,
   "metadata": {},
   "outputs": [],
   "source": [
    "import shutil"
   ]
  },
  {
   "cell_type": "code",
   "execution_count": 3,
   "metadata": {},
   "outputs": [],
   "source": [
    "import os"
   ]
  },
  {
   "cell_type": "code",
   "execution_count": 11,
   "metadata": {},
   "outputs": [
    {
     "data": {
      "text/plain": [
       "False"
      ]
     },
     "execution_count": 11,
     "metadata": {},
     "output_type": "execute_result"
    }
   ],
   "source": [
    "cur = path + \"3/\"\n",
    "\n",
    "shutil.rmtree(cur)\n",
    "os.path.exists(cur)"
   ]
  },
  {
   "cell_type": "code",
   "execution_count": 8,
   "metadata": {},
   "outputs": [
    {
     "data": {
      "text/plain": [
       "False"
      ]
     },
     "execution_count": 8,
     "metadata": {},
     "output_type": "execute_result"
    }
   ],
   "source": []
  },
  {
   "cell_type": "code",
   "execution_count": 7,
   "metadata": {},
   "outputs": [],
   "source": []
  },
  {
   "cell_type": "code",
   "execution_count": null,
   "metadata": {},
   "outputs": [],
   "source": []
  },
  {
   "cell_type": "code",
   "execution_count": null,
   "metadata": {},
   "outputs": [],
   "source": []
  }
 ],
 "metadata": {
  "kernelspec": {
   "display_name": "Python 3",
   "language": "python",
   "name": "python3"
  },
  "language_info": {
   "codemirror_mode": {
    "name": "ipython",
    "version": 3
   },
   "file_extension": ".py",
   "mimetype": "text/x-python",
   "name": "python",
   "nbconvert_exporter": "python",
   "pygments_lexer": "ipython3",
   "version": "3.6.8"
  }
 },
 "nbformat": 4,
 "nbformat_minor": 2
}
